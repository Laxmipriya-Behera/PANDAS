{
 "cells": [
  {
   "cell_type": "code",
   "execution_count": 1,
   "id": "b1ea8618",
   "metadata": {},
   "outputs": [
    {
     "name": "stdout",
     "output_type": "stream",
     "text": [
      "[[11 12 13]\n",
      " [21 22 23]\n",
      " [31 41 45]]\n"
     ]
    }
   ],
   "source": [
    "import numpy as np\n",
    "another = np.array([[11,12,13],[21,22,23],[31,41,45]])\n",
    "print(another)"
   ]
  },
  {
   "cell_type": "code",
   "execution_count": 2,
   "id": "7e311eda",
   "metadata": {},
   "outputs": [
    {
     "data": {
      "text/plain": [
       "23"
      ]
     },
     "execution_count": 2,
     "metadata": {},
     "output_type": "execute_result"
    }
   ],
   "source": [
    "another[1,2]"
   ]
  },
  {
   "cell_type": "code",
   "execution_count": 3,
   "id": "2b90b46d",
   "metadata": {},
   "outputs": [
    {
     "name": "stdout",
     "output_type": "stream",
     "text": [
      "(3, 3)\n"
     ]
    }
   ],
   "source": [
    "print(another.shape)"
   ]
  },
  {
   "cell_type": "code",
   "execution_count": 4,
   "id": "919b560f",
   "metadata": {},
   "outputs": [
    {
     "name": "stdout",
     "output_type": "stream",
     "text": [
      "[11 12 13] [21 22 23] [31 41 45]\n"
     ]
    }
   ],
   "source": [
    "print(another[0],another[1],another[2])"
   ]
  },
  {
   "cell_type": "code",
   "execution_count": 5,
   "id": "e7ef2272",
   "metadata": {},
   "outputs": [
    {
     "name": "stdout",
     "output_type": "stream",
     "text": [
      "[[77 77 77]\n",
      " [44 44 44]\n",
      " [31 41 45]]\n"
     ]
    }
   ],
   "source": [
    "another[0],another[1]=77,44\n",
    "print(another)"
   ]
  },
  {
   "cell_type": "code",
   "execution_count": 6,
   "id": "ff5a0ae7",
   "metadata": {},
   "outputs": [
    {
     "name": "stdout",
     "output_type": "stream",
     "text": [
      "[[11 12 13 14]\n",
      " [21 22 23 24]\n",
      " [31 32 33 34]]\n",
      "11 12 13 14\n"
     ]
    }
   ],
   "source": [
    "another = np.array([[11,12,13,14],[21,22,23,24],[31,32,33,34]])\n",
    "print(another)\n",
    "print(another[0,0],another[0,1],another[0,2],another[0,3])"
   ]
  },
  {
   "cell_type": "code",
   "execution_count": 7,
   "id": "acb3ec15",
   "metadata": {},
   "outputs": [
    {
     "name": "stdout",
     "output_type": "stream",
     "text": [
      "[[0. 0. 0.]\n",
      " [0. 0. 0.]\n",
      " [0. 0. 0.]]\n"
     ]
    }
   ],
   "source": [
    "ex1=np.zeros((3,3))\n",
    "print(ex1)"
   ]
  },
  {
   "cell_type": "code",
   "execution_count": 8,
   "id": "0ded7261",
   "metadata": {},
   "outputs": [
    {
     "name": "stdout",
     "output_type": "stream",
     "text": [
      "[[10 10 10]\n",
      " [10 10 10]\n",
      " [10 10 10]\n",
      " [10 10 10]]\n"
     ]
    }
   ],
   "source": [
    "ex2=np.full((4,3),10)\n",
    "print(ex2)"
   ]
  },
  {
   "cell_type": "code",
   "execution_count": 9,
   "id": "54ac935c",
   "metadata": {},
   "outputs": [
    {
     "name": "stdout",
     "output_type": "stream",
     "text": [
      "[[1. 0. 0. 0.]\n",
      " [0. 1. 0. 0.]\n",
      " [0. 0. 1. 0.]\n",
      " [0. 0. 0. 1.]\n",
      " [0. 0. 0. 0.]\n",
      " [0. 0. 0. 0.]]\n"
     ]
    }
   ],
   "source": [
    "ex3=np.eye(6,4)  #it increment 1 & never decrement\n",
    "print(ex3)"
   ]
  },
  {
   "cell_type": "code",
   "execution_count": 10,
   "id": "2bac712b",
   "metadata": {},
   "outputs": [
    {
     "name": "stdout",
     "output_type": "stream",
     "text": [
      "[[1. 1. 1. 1. 1.]\n",
      " [1. 1. 1. 1. 1.]\n",
      " [1. 1. 1. 1. 1.]\n",
      " [1. 1. 1. 1. 1.]\n",
      " [1. 1. 1. 1. 1.]]\n"
     ]
    }
   ],
   "source": [
    "ex4=np.ones((5,5))  #it comes only 1 in every index\n",
    "print(ex4)"
   ]
  },
  {
   "cell_type": "code",
   "execution_count": 11,
   "id": "5cac78bb",
   "metadata": {},
   "outputs": [
    {
     "name": "stdout",
     "output_type": "stream",
     "text": [
      "(5, 5)\n",
      "1.0\n"
     ]
    }
   ],
   "source": [
    "print(ex4.shape)\n",
    "print(ex4[0,0])"
   ]
  },
  {
   "cell_type": "code",
   "execution_count": 12,
   "id": "bf2a1745",
   "metadata": {},
   "outputs": [
    {
     "name": "stdout",
     "output_type": "stream",
     "text": [
      "[[0.50003585 0.98953709]\n",
      " [0.34032137 0.36237091]]\n"
     ]
    }
   ],
   "source": [
    "ex5=np.random.random((2,2))\n",
    "print(ex5)"
   ]
  },
  {
   "cell_type": "markdown",
   "id": "eebf4b04",
   "metadata": {},
   "source": [
    "# Array Indexing"
   ]
  },
  {
   "cell_type": "code",
   "execution_count": 13,
   "id": "4a342027",
   "metadata": {},
   "outputs": [
    {
     "name": "stdout",
     "output_type": "stream",
     "text": [
      "[[11 12 13 14]\n",
      " [21 22 23 24]\n",
      " [31 32 33 34]]\n"
     ]
    }
   ],
   "source": [
    "another = np.array([[11,12,13,14],[21,22,23,24],[31,32,33,34]])\n",
    "print(another)"
   ]
  },
  {
   "cell_type": "code",
   "execution_count": 14,
   "id": "ab9197a6",
   "metadata": {},
   "outputs": [
    {
     "name": "stdout",
     "output_type": "stream",
     "text": [
      "[[22 23]\n",
      " [32 33]]\n"
     ]
    }
   ],
   "source": [
    "print(another[1:3,1:3])"
   ]
  },
  {
   "cell_type": "code",
   "execution_count": 15,
   "id": "b2f4a405",
   "metadata": {},
   "outputs": [
    {
     "name": "stdout",
     "output_type": "stream",
     "text": [
      "[[12 13]\n",
      " [22 23]\n",
      " [32 33]]\n"
     ]
    }
   ],
   "source": [
    "print(another[:,1:3])"
   ]
  },
  {
   "cell_type": "code",
   "execution_count": 16,
   "id": "f0231560",
   "metadata": {},
   "outputs": [
    {
     "name": "stdout",
     "output_type": "stream",
     "text": [
      "[11 12 13 14]\n"
     ]
    }
   ],
   "source": [
    "print(another[0,:])"
   ]
  },
  {
   "cell_type": "code",
   "execution_count": 17,
   "id": "1c164f01",
   "metadata": {},
   "outputs": [
    {
     "name": "stdout",
     "output_type": "stream",
     "text": [
      "[[2 3 4 6 7 8 9]\n",
      " [2 3 4 6 7 8 9]]\n"
     ]
    }
   ],
   "source": [
    "new=np.array([[2,3,4,6,7,8,9],[2,3,4,6,7,8,9]])\n",
    "print(new)"
   ]
  },
  {
   "cell_type": "code",
   "execution_count": 18,
   "id": "6b85197a",
   "metadata": {},
   "outputs": [
    {
     "name": "stdout",
     "output_type": "stream",
     "text": [
      "[[4 6]\n",
      " [4 6]]\n"
     ]
    }
   ],
   "source": [
    "print(new[:2,2:4])"
   ]
  },
  {
   "cell_type": "code",
   "execution_count": 19,
   "id": "a3c1e32e",
   "metadata": {},
   "outputs": [
    {
     "name": "stdout",
     "output_type": "stream",
     "text": [
      "[2 3 4 6 7 8 9]\n"
     ]
    }
   ],
   "source": [
    "print(new[0,:])"
   ]
  },
  {
   "cell_type": "code",
   "execution_count": 20,
   "id": "cd8f71a4",
   "metadata": {},
   "outputs": [
    {
     "name": "stdout",
     "output_type": "stream",
     "text": [
      "[[6 7 8]\n",
      " [6 7 8]]\n"
     ]
    }
   ],
   "source": [
    "print(new[:2,3:6])"
   ]
  },
  {
   "cell_type": "code",
   "execution_count": 21,
   "id": "74be1730",
   "metadata": {},
   "outputs": [
    {
     "name": "stdout",
     "output_type": "stream",
     "text": [
      "[[3 4 6 7]\n",
      " [3 4 6 7]]\n"
     ]
    }
   ],
   "source": [
    "print(new[:2,1:5])"
   ]
  },
  {
   "cell_type": "code",
   "execution_count": 22,
   "id": "00637a45",
   "metadata": {},
   "outputs": [
    {
     "name": "stdout",
     "output_type": "stream",
     "text": [
      "[[11 12]\n",
      " [21 22]\n",
      " [31 32]]\n"
     ]
    }
   ],
   "source": [
    "a_slice1=another[0:3,0:2]\n",
    "print(a_slice1)"
   ]
  },
  {
   "cell_type": "code",
   "execution_count": 23,
   "id": "81418dd2",
   "metadata": {},
   "outputs": [
    {
     "name": "stdout",
     "output_type": "stream",
     "text": [
      "13\n"
     ]
    }
   ],
   "source": [
    "print (another[0,2])"
   ]
  },
  {
   "cell_type": "code",
   "execution_count": 24,
   "id": "6330ab61",
   "metadata": {},
   "outputs": [
    {
     "name": "stdout",
     "output_type": "stream",
     "text": [
      "Before: 12\n",
      "After: 950\n"
     ]
    }
   ],
   "source": [
    "print(\"Before:\" , another[0,1])\n",
    "a_slice1[0,0]=950\n",
    "print(\"After:\",a_slice1[0,0])"
   ]
  },
  {
   "cell_type": "code",
   "execution_count": 25,
   "id": "b918b2f6",
   "metadata": {},
   "outputs": [
    {
     "name": "stdout",
     "output_type": "stream",
     "text": [
      "[[11 12 13 14]\n",
      " [21 22 23 24]\n",
      " [31 32 33 34]]\n"
     ]
    }
   ],
   "source": [
    "another = np.array([[11,12,13,14],[21,22,23,24],[31,32,33,34]])\n",
    "print(another)"
   ]
  },
  {
   "cell_type": "code",
   "execution_count": 26,
   "id": "83767471",
   "metadata": {},
   "outputs": [
    {
     "name": "stdout",
     "output_type": "stream",
     "text": [
      "[31 32 33 34] (4,)\n"
     ]
    }
   ],
   "source": [
    "import numpy as np     \n",
    "row_rank1=another[2]  #if it is vector then it will come [] # else [] []\n",
    "print(row_rank1 , row_rank1.shape)  #also we can remove the colon(:) for getting the exact o/p"
   ]
  },
  {
   "cell_type": "code",
   "execution_count": 27,
   "id": "54fb24bf",
   "metadata": {},
   "outputs": [
    {
     "name": "stdout",
     "output_type": "stream",
     "text": [
      "[[21 22 23 24]] (1, 4)\n"
     ]
    }
   ],
   "source": [
    "import numpy as np     \n",
    "row_rank2=another[1:2,:]  #if it is vector then it will come [] # else [] []\n",
    "print(row_rank2 , row_rank2.shape) #1 row, 4 columnsk1=another[]"
   ]
  },
  {
   "cell_type": "code",
   "execution_count": 28,
   "id": "8867639a",
   "metadata": {},
   "outputs": [
    {
     "name": "stdout",
     "output_type": "stream",
     "text": [
      "[11 21 31] (3,)\n"
     ]
    }
   ],
   "source": [
    "col_rank1=another[:,0]\n",
    "print(col_rank1 , col_rank1.shape)"
   ]
  },
  {
   "cell_type": "code",
   "execution_count": 29,
   "id": "6dbb8ca0",
   "metadata": {},
   "outputs": [
    {
     "name": "stdout",
     "output_type": "stream",
     "text": [
      "[[12]\n",
      " [22]\n",
      " [32]] (3, 1)\n"
     ]
    }
   ],
   "source": [
    "col_rank2=another[:,1:2]\n",
    "print(col_rank2 , col_rank2.shape)"
   ]
  },
  {
   "cell_type": "code",
   "execution_count": 30,
   "id": "8be5255d",
   "metadata": {},
   "outputs": [
    {
     "name": "stdout",
     "output_type": "stream",
     "text": [
      "original array\n",
      "[[11 12 13 14]\n",
      " [21 22 23 24]\n",
      " [31 32 33 34]\n",
      " [41 42 43 44]]\n"
     ]
    }
   ],
   "source": [
    "another = np.array([[11,12,13,14],[21,22,23,24],[31,32,33,34],[41,42,43,44]])\n",
    "print('original array')\n",
    "print(another)"
   ]
  },
  {
   "cell_type": "code",
   "execution_count": 31,
   "id": "428ddb3e",
   "metadata": {},
   "outputs": [
    {
     "name": "stdout",
     "output_type": "stream",
     "text": [
      "\n",
      "col indices picked: [0 1 2 2]\n",
      "\n",
      "rows indices picked: [0 1 2 3]\n"
     ]
    }
   ],
   "source": [
    "col_indices=np.array([0,1,2,2])     ##doubt\n",
    "print('\\ncol indices picked:' , col_indices)\n",
    "\n",
    "row_indices=np.arange(4)   ## may be it shows store like arranging like here it stored 0 name in 0 index \n",
    "print('\\nrows indices picked:',row_indices)"
   ]
  },
  {
   "cell_type": "code",
   "execution_count": 32,
   "id": "080a7a5a",
   "metadata": {},
   "outputs": [
    {
     "name": "stdout",
     "output_type": "stream",
     "text": [
      "0 , 0\n",
      "1 , 1\n",
      "2 , 2\n",
      "3 , 2\n"
     ]
    }
   ],
   "source": [
    "for row,col in zip(row_indices,col_indices):\n",
    "    print(row,\",\", col)"
   ]
  },
  {
   "cell_type": "code",
   "execution_count": 33,
   "id": "5dfcf3ed",
   "metadata": {},
   "outputs": [
    {
     "name": "stdout",
     "output_type": "stream",
     "text": [
      "values in the array at those indices: [11 22 33 43]\n"
     ]
    }
   ],
   "source": [
    "print('values in the array at those indices:' ,another[row_indices,col_indices])"
   ]
  },
  {
   "cell_type": "code",
   "execution_count": 34,
   "id": "6ecc366f",
   "metadata": {},
   "outputs": [
    {
     "name": "stdout",
     "output_type": "stream",
     "text": [
      "\n",
      "changed array:\n",
      "[[111  12  13  14]\n",
      " [ 21 122  23  24]\n",
      " [ 31  32 133  34]\n",
      " [ 41  42 143  44]]\n"
     ]
    }
   ],
   "source": [
    "another[row_indices,col_indices]+=100\n",
    "print('\\nchanged array:')\n",
    "print(another)"
   ]
  },
  {
   "cell_type": "markdown",
   "id": "b19fc383",
   "metadata": {},
   "source": [
    "# Boolean Indexing"
   ]
  },
  {
   "cell_type": "code",
   "execution_count": 35,
   "id": "bd974c7f",
   "metadata": {},
   "outputs": [
    {
     "name": "stdout",
     "output_type": "stream",
     "text": [
      "[[11 12]\n",
      " [21 22]\n",
      " [31 32]]\n"
     ]
    }
   ],
   "source": [
    "another=np.array([[11,12],[21,22],[31,32]])\n",
    "print(another)"
   ]
  },
  {
   "cell_type": "code",
   "execution_count": 36,
   "id": "29a0cc61",
   "metadata": {},
   "outputs": [
    {
     "data": {
      "text/plain": [
       "array([[False, False],\n",
       "       [ True,  True],\n",
       "       [ True,  True]])"
      ]
     },
     "execution_count": 36,
     "metadata": {},
     "output_type": "execute_result"
    }
   ],
   "source": [
    "filter=(another>20)  ##if we use array with condition then it will show T/F\n",
    "filter"
   ]
  },
  {
   "cell_type": "code",
   "execution_count": 37,
   "id": "441be79b",
   "metadata": {},
   "outputs": [
    {
     "name": "stdout",
     "output_type": "stream",
     "text": [
      "[21 22 31 32]\n"
     ]
    }
   ],
   "source": [
    "print(another[filter])  ##if we use filter within condition then it will show numeric value"
   ]
  },
  {
   "cell_type": "code",
   "execution_count": 38,
   "id": "fec9a572",
   "metadata": {},
   "outputs": [
    {
     "data": {
      "text/plain": [
       "array([21, 22, 31, 32])"
      ]
     },
     "execution_count": 38,
     "metadata": {},
     "output_type": "execute_result"
    }
   ],
   "source": [
    "another[another>20]"
   ]
  },
  {
   "cell_type": "code",
   "execution_count": 39,
   "id": "71907536",
   "metadata": {},
   "outputs": [
    {
     "name": "stdout",
     "output_type": "stream",
     "text": [
      "[[ 11 112]\n",
      " [ 21 122]\n",
      " [ 31 132]]\n"
     ]
    }
   ],
   "source": [
    "another[another %2==0]+=100  ##if ist is even no or it can divide by 2 then it will come with +=result\n",
    "print(another)"
   ]
  },
  {
   "cell_type": "markdown",
   "id": "60eae682",
   "metadata": {},
   "source": [
    "# Data Type"
   ]
  },
  {
   "cell_type": "code",
   "execution_count": 40,
   "id": "c1c88607",
   "metadata": {},
   "outputs": [
    {
     "name": "stdout",
     "output_type": "stream",
     "text": [
      "int32\n"
     ]
    }
   ],
   "source": [
    "ex1=np.array([32,43,34])\n",
    "print(ex1.dtype)"
   ]
  },
  {
   "cell_type": "code",
   "execution_count": 41,
   "id": "667c263a",
   "metadata": {},
   "outputs": [
    {
     "name": "stdout",
     "output_type": "stream",
     "text": [
      "float64\n"
     ]
    }
   ],
   "source": [
    "ex2=np.array([27.0 , 32.0])\n",
    "print(ex2.dtype)"
   ]
  },
  {
   "cell_type": "code",
   "execution_count": 42,
   "id": "e3b4f9a1",
   "metadata": {},
   "outputs": [
    {
     "name": "stdout",
     "output_type": "stream",
     "text": [
      "int32\n"
     ]
    }
   ],
   "source": [
    "ex3=np.array([11.5,6.5] , dtype=np.int32)  ## we can tell which is float and int\n",
    "print(ex3.dtype)"
   ]
  },
  {
   "cell_type": "code",
   "execution_count": 43,
   "id": "9742d079",
   "metadata": {},
   "outputs": [
    {
     "name": "stdout",
     "output_type": "stream",
     "text": [
      "float64\n",
      "[ 11. 120.]\n"
     ]
    }
   ],
   "source": [
    "ex4=np.array([11,120],dtype=np.float64)\n",
    "print(ex4.dtype)\n",
    "print(ex4)"
   ]
  },
  {
   "cell_type": "code",
   "execution_count": 44,
   "id": "f1831a2b",
   "metadata": {},
   "outputs": [
    {
     "name": "stdout",
     "output_type": "stream",
     "text": [
      "float64\n",
      "\n",
      "[11. 87.]\n"
     ]
    }
   ],
   "source": [
    "ex5=np.array([11,87],dtype=np.float64)\n",
    "print(ex5.dtype)\n",
    "print()\n",
    "print(ex5)"
   ]
  },
  {
   "cell_type": "markdown",
   "id": "f21b592b",
   "metadata": {},
   "source": [
    "# Arithmetic Array Operations:"
   ]
  },
  {
   "cell_type": "code",
   "execution_count": 45,
   "id": "9297314e",
   "metadata": {},
   "outputs": [
    {
     "name": "stdout",
     "output_type": "stream",
     "text": [
      "[[12 13]\n",
      " [20 30]]\n",
      "\n",
      "[[10. 40.]\n",
      " [18. 14.]]\n"
     ]
    }
   ],
   "source": [
    "x=np.array([[12,13] , [20,30]] , dtype=np.int32)\n",
    "y=np.array([[10.0,40.0] , [18.0,14.0]], dtype=np.float64)\n",
    "\n",
    "print(x)\n",
    "print()\n",
    "print(y)"
   ]
  },
  {
   "cell_type": "code",
   "execution_count": 46,
   "id": "a686eead",
   "metadata": {},
   "outputs": [
    {
     "name": "stdout",
     "output_type": "stream",
     "text": [
      "[[22. 53.]\n",
      " [38. 44.]]\n",
      "\n",
      "[[22. 53.]\n",
      " [38. 44.]]\n"
     ]
    }
   ],
   "source": [
    "print(x+y)\n",
    "print()\n",
    "print(np.add(x,y))"
   ]
  },
  {
   "cell_type": "code",
   "execution_count": 47,
   "id": "c1f393cd",
   "metadata": {},
   "outputs": [
    {
     "name": "stdout",
     "output_type": "stream",
     "text": [
      "[[  2. -27.]\n",
      " [  2.  16.]]\n",
      "\n",
      "[[  2. -27.]\n",
      " [  2.  16.]]\n"
     ]
    }
   ],
   "source": [
    "print(x-y)\n",
    "print()\n",
    "print(np.subtract(x,y))"
   ]
  },
  {
   "cell_type": "code",
   "execution_count": 48,
   "id": "c81d9550",
   "metadata": {},
   "outputs": [
    {
     "name": "stdout",
     "output_type": "stream",
     "text": [
      "[[120. 520.]\n",
      " [360. 420.]]\n",
      "\n",
      "[[120. 520.]\n",
      " [360. 420.]]\n"
     ]
    }
   ],
   "source": [
    "print(x*y)\n",
    "print()\n",
    "print(np.multiply(x,y))"
   ]
  },
  {
   "cell_type": "code",
   "execution_count": 49,
   "id": "7946efc5",
   "metadata": {},
   "outputs": [
    {
     "name": "stdout",
     "output_type": "stream",
     "text": [
      "[[1.2        0.325     ]\n",
      " [1.11111111 2.14285714]]\n",
      "\n",
      "[[1.2        0.325     ]\n",
      " [1.11111111 2.14285714]]\n"
     ]
    }
   ],
   "source": [
    "print(x/y)\n",
    "print()\n",
    "print(np.divide(x,y))"
   ]
  },
  {
   "cell_type": "code",
   "execution_count": 50,
   "id": "21b7ee37",
   "metadata": {},
   "outputs": [
    {
     "name": "stdout",
     "output_type": "stream",
     "text": [
      "[[3.46410162 3.60555128]\n",
      " [4.47213595 5.47722558]]\n"
     ]
    }
   ],
   "source": [
    "print(np.sqrt(x))"
   ]
  },
  {
   "cell_type": "code",
   "execution_count": 51,
   "id": "dc13c952",
   "metadata": {},
   "outputs": [
    {
     "name": "stdout",
     "output_type": "stream",
     "text": [
      "[[1.62754791e+05 4.42413392e+05]\n",
      " [4.85165195e+08 1.06864746e+13]]\n"
     ]
    }
   ],
   "source": [
    "print(np.exp(x))    ##exp?"
   ]
  },
  {
   "cell_type": "markdown",
   "id": "b5b33b51",
   "metadata": {},
   "source": [
    "# Statistical Methods,Sorting , and Set Operations:"
   ]
  },
  {
   "cell_type": "code",
   "execution_count": 52,
   "id": "7793e25f",
   "metadata": {},
   "outputs": [
    {
     "name": "stdout",
     "output_type": "stream",
     "text": [
      "[[ 7.04700883 -0.80150193  6.25024279 -3.39844741  7.00078595]\n",
      " [-6.62923518  4.70269659  3.08965707 -4.0321148   0.85529266]]\n"
     ]
    }
   ],
   "source": [
    "arr=10*np.random.randn(2,5)\n",
    "print(arr)"
   ]
  },
  {
   "cell_type": "code",
   "execution_count": 53,
   "id": "0b45b6fc",
   "metadata": {},
   "outputs": [
    {
     "name": "stdout",
     "output_type": "stream",
     "text": [
      "1.40843845654627\n"
     ]
    }
   ],
   "source": [
    "print(arr.mean())"
   ]
  },
  {
   "cell_type": "code",
   "execution_count": 54,
   "id": "1f27efa8",
   "metadata": {},
   "outputs": [
    {
     "name": "stdout",
     "output_type": "stream",
     "text": [
      "[ 3.21961765 -0.40274073]\n"
     ]
    }
   ],
   "source": [
    "print(arr.mean(axis=1))"
   ]
  },
  {
   "cell_type": "code",
   "execution_count": 55,
   "id": "8b3d404f",
   "metadata": {},
   "outputs": [
    {
     "name": "stdout",
     "output_type": "stream",
     "text": [
      "[ 0.20888683  1.95059733  4.66994993 -3.71528111  3.9280393 ]\n"
     ]
    }
   ],
   "source": [
    "print(arr.mean(axis=0))"
   ]
  },
  {
   "cell_type": "code",
   "execution_count": 56,
   "id": "8496b7e5",
   "metadata": {},
   "outputs": [
    {
     "name": "stdout",
     "output_type": "stream",
     "text": [
      "14.0843845654627\n"
     ]
    }
   ],
   "source": [
    "print(arr.sum())"
   ]
  },
  {
   "cell_type": "code",
   "execution_count": 57,
   "id": "51f1c27c",
   "metadata": {},
   "outputs": [
    {
     "name": "stdout",
     "output_type": "stream",
     "text": [
      "[6.25024279 0.85529266]\n"
     ]
    }
   ],
   "source": [
    "print(np.median(arr , axis=1))"
   ]
  },
  {
   "cell_type": "markdown",
   "id": "b27a02b8",
   "metadata": {},
   "source": [
    "# Sorting:"
   ]
  },
  {
   "cell_type": "code",
   "execution_count": 58,
   "id": "064566bb",
   "metadata": {},
   "outputs": [
    {
     "data": {
      "text/plain": [
       "{3, 6, 7}"
      ]
     },
     "execution_count": 58,
     "metadata": {},
     "output_type": "execute_result"
    }
   ],
   "source": [
    "lst=[3,6,7,6,3,3]\n",
    "set(lst)"
   ]
  },
  {
   "cell_type": "code",
   "execution_count": 59,
   "id": "5b5b9c84",
   "metadata": {},
   "outputs": [
    {
     "name": "stdout",
     "output_type": "stream",
     "text": [
      "[-1.43579     0.0898147   0.02742483 -0.57762324  0.98107401 -1.29934903\n",
      "  0.00446338  0.45079836 -1.31927184 -0.04827398]\n"
     ]
    }
   ],
   "source": [
    "unsorted=np.random.randn(10)\n",
    "print(unsorted)"
   ]
  },
  {
   "cell_type": "code",
   "execution_count": 60,
   "id": "7de4d352",
   "metadata": {},
   "outputs": [
    {
     "name": "stdout",
     "output_type": "stream",
     "text": [
      "[-1.43579    -1.31927184 -1.29934903 -0.57762324 -0.04827398  0.00446338\n",
      "  0.02742483  0.0898147   0.45079836  0.98107401]\n",
      "\n",
      "[-1.43579     0.0898147   0.02742483 -0.57762324  0.98107401 -1.29934903\n",
      "  0.00446338  0.45079836 -1.31927184 -0.04827398]\n"
     ]
    }
   ],
   "source": [
    "sorted=np.array(unsorted)\n",
    "sorted.sort()\n",
    "\n",
    "print(sorted)\n",
    "print()\n",
    "print(unsorted)"
   ]
  },
  {
   "cell_type": "code",
   "execution_count": 61,
   "id": "6a1076e6",
   "metadata": {},
   "outputs": [
    {
     "name": "stdout",
     "output_type": "stream",
     "text": [
      "[-1.43579    -1.31927184 -1.29934903 -0.57762324 -0.04827398  0.00446338\n",
      "  0.02742483  0.0898147   0.45079836  0.98107401]\n"
     ]
    }
   ],
   "source": [
    "unsorted.sort()\n",
    "print(unsorted)"
   ]
  },
  {
   "cell_type": "code",
   "execution_count": 62,
   "id": "2bfa755f",
   "metadata": {},
   "outputs": [
    {
     "name": "stdout",
     "output_type": "stream",
     "text": [
      "[3 6 7]\n"
     ]
    }
   ],
   "source": [
    "array=np.array([3,6,7,6,3,3])\n",
    "print(np.unique(array))"
   ]
  },
  {
   "cell_type": "code",
   "execution_count": 63,
   "id": "3e50ed02",
   "metadata": {},
   "outputs": [
    {
     "name": "stdout",
     "output_type": "stream",
     "text": [
      "['desk' 'chair' 'bulb'] ['lamp' 'bulb' 'chair']\n"
     ]
    }
   ],
   "source": [
    "s1=np.array(['desk','chair','bulb'])\n",
    "s2=np.array(['lamp','bulb','chair'])\n",
    "print(s1,s2)"
   ]
  },
  {
   "cell_type": "code",
   "execution_count": 64,
   "id": "52b40ad3",
   "metadata": {},
   "outputs": [
    {
     "name": "stdout",
     "output_type": "stream",
     "text": [
      "['bulb' 'chair']\n"
     ]
    }
   ],
   "source": [
    "print(np.intersect1d(s1,s2))"
   ]
  },
  {
   "cell_type": "code",
   "execution_count": 65,
   "id": "acebe4a0",
   "metadata": {},
   "outputs": [
    {
     "name": "stdout",
     "output_type": "stream",
     "text": [
      "['bulb' 'chair' 'desk' 'lamp']\n"
     ]
    }
   ],
   "source": [
    "print(np.union1d(s1,s2))"
   ]
  },
  {
   "cell_type": "code",
   "execution_count": 66,
   "id": "9b2cbcdc",
   "metadata": {},
   "outputs": [
    {
     "name": "stdout",
     "output_type": "stream",
     "text": [
      "['lamp']\n"
     ]
    }
   ],
   "source": [
    "print(np.setdiff1d(s2,s1))"
   ]
  },
  {
   "cell_type": "code",
   "execution_count": 67,
   "id": "732bc82e",
   "metadata": {},
   "outputs": [
    {
     "name": "stdout",
     "output_type": "stream",
     "text": [
      "[False  True  True]\n"
     ]
    }
   ],
   "source": [
    "print(np.in1d(s1,s2))"
   ]
  },
  {
   "cell_type": "markdown",
   "id": "ebb46b54",
   "metadata": {},
   "source": [
    "# Broadcasting"
   ]
  },
  {
   "cell_type": "code",
   "execution_count": 68,
   "id": "ee2f0d1a",
   "metadata": {},
   "outputs": [
    {
     "name": "stdout",
     "output_type": "stream",
     "text": [
      "[[0. 0. 0.]\n",
      " [0. 0. 0.]\n",
      " [0. 0. 0.]\n",
      " [0. 0. 0.]]\n"
     ]
    }
   ],
   "source": [
    "import numpy as np\n",
    "\n",
    "start=np.zeros((4,3))\n",
    "print(start)"
   ]
  },
  {
   "cell_type": "code",
   "execution_count": 69,
   "id": "15840e90",
   "metadata": {},
   "outputs": [
    {
     "name": "stdout",
     "output_type": "stream",
     "text": [
      "[1 0 2]\n"
     ]
    }
   ],
   "source": [
    "add_rows=np.array([1,0,2])\n",
    "print(add_rows)"
   ]
  },
  {
   "cell_type": "code",
   "execution_count": 70,
   "id": "197564f1",
   "metadata": {},
   "outputs": [
    {
     "name": "stdout",
     "output_type": "stream",
     "text": [
      "[[1. 0. 2.]\n",
      " [1. 0. 2.]\n",
      " [1. 0. 2.]\n",
      " [1. 0. 2.]]\n"
     ]
    }
   ],
   "source": [
    "y=start+add_rows\n",
    "print(y)"
   ]
  },
  {
   "cell_type": "code",
   "execution_count": 71,
   "id": "399006d0",
   "metadata": {},
   "outputs": [
    {
     "name": "stdout",
     "output_type": "stream",
     "text": [
      "[[0]\n",
      " [1]\n",
      " [2]\n",
      " [3]]\n"
     ]
    }
   ],
   "source": [
    "add_cols=np.array([[0,1,2,3]])\n",
    "add_cols=add_cols.T\n",
    "\n",
    "print(add_cols)"
   ]
  },
  {
   "cell_type": "code",
   "execution_count": 72,
   "id": "cea8c399",
   "metadata": {},
   "outputs": [
    {
     "name": "stdout",
     "output_type": "stream",
     "text": [
      "[[0. 0. 0.]\n",
      " [1. 1. 1.]\n",
      " [2. 2. 2.]\n",
      " [3. 3. 3.]]\n"
     ]
    }
   ],
   "source": [
    "y=start+add_cols\n",
    "print(y)"
   ]
  },
  {
   "cell_type": "code",
   "execution_count": 73,
   "id": "8197f35a",
   "metadata": {},
   "outputs": [
    {
     "name": "stdout",
     "output_type": "stream",
     "text": [
      "[[1. 1. 1.]\n",
      " [1. 1. 1.]\n",
      " [1. 1. 1.]\n",
      " [1. 1. 1.]]\n"
     ]
    }
   ],
   "source": [
    "add_scalar=np.array([1])\n",
    "print(start+add_scalar)"
   ]
  },
  {
   "cell_type": "code",
   "execution_count": 74,
   "id": "8dbd322b",
   "metadata": {},
   "outputs": [
    {
     "name": "stdout",
     "output_type": "stream",
     "text": [
      "[[ 1  2  3  4]\n",
      " [ 5  6  7  8]\n",
      " [ 9 10 11 12]]\n"
     ]
    }
   ],
   "source": [
    "arrA=np.array([[1,2,3,4],[5,6,7,8],[9,10,11,12]])\n",
    "print(arrA)"
   ]
  },
  {
   "cell_type": "code",
   "execution_count": 75,
   "id": "c7d50298",
   "metadata": {},
   "outputs": [
    {
     "name": "stdout",
     "output_type": "stream",
     "text": [
      "[0, 1, 0, 2]\n"
     ]
    }
   ],
   "source": [
    "arrB=[0,1,0,2]\n",
    "print(arrB)"
   ]
  },
  {
   "cell_type": "code",
   "execution_count": 76,
   "id": "38cf5073",
   "metadata": {},
   "outputs": [
    {
     "name": "stdout",
     "output_type": "stream",
     "text": [
      "[[ 1  3  3  6]\n",
      " [ 5  7  7 10]\n",
      " [ 9 11 11 14]]\n"
     ]
    }
   ],
   "source": [
    "print(arrA+arrB)"
   ]
  },
  {
   "cell_type": "markdown",
   "id": "ec7e834d",
   "metadata": {},
   "source": [
    "# speedtest"
   ]
  },
  {
   "cell_type": "code",
   "execution_count": 77,
   "id": "ed474aa1",
   "metadata": {},
   "outputs": [],
   "source": [
    "from numpy import arange\n",
    "from timeit import Timer\n",
    "\n",
    "size=1000000\n",
    "timeits=1000"
   ]
  },
  {
   "cell_type": "code",
   "execution_count": 78,
   "id": "ae0858be",
   "metadata": {},
   "outputs": [
    {
     "name": "stdout",
     "output_type": "stream",
     "text": [
      "<class 'numpy.ndarray'>\n"
     ]
    }
   ],
   "source": [
    "nd_array=arange(size)\n",
    "print(type(nd_array))"
   ]
  },
  {
   "cell_type": "code",
   "execution_count": 79,
   "id": "3c95e1e3",
   "metadata": {},
   "outputs": [
    {
     "name": "stdout",
     "output_type": "stream",
     "text": [
      "Time taken by numpy ndarray: 0.000389 seconds\n"
     ]
    }
   ],
   "source": [
    "timer_numpy = Timer(\"nd_array.sum()\", \"from __main__ import nd_array\")\n",
    "\n",
    "print(\"Time taken by numpy ndarray: %f seconds\" % \n",
    "      (timer_numpy.timeit(timeits)/timeits))\n"
   ]
  },
  {
   "cell_type": "code",
   "execution_count": 80,
   "id": "9a7e648d",
   "metadata": {},
   "outputs": [
    {
     "name": "stdout",
     "output_type": "stream",
     "text": [
      "<class 'list'>\n"
     ]
    }
   ],
   "source": [
    "a_list = list(range(size))\n",
    "print (type(a_list) )\n"
   ]
  },
  {
   "cell_type": "code",
   "execution_count": 81,
   "id": "7da5e250",
   "metadata": {},
   "outputs": [
    {
     "name": "stdout",
     "output_type": "stream",
     "text": [
      "Time taken by list:  0.018625 seconds\n"
     ]
    }
   ],
   "source": [
    "timer_list = Timer(\"sum(a_list)\", \"from __main__ import a_list\")\n",
    "\n",
    "print(\"Time taken by list:  %f seconds\" % \n",
    "      (timer_list.timeit(timeits)/timeits))\n"
   ]
  },
  {
   "cell_type": "markdown",
   "id": "cb6388a0",
   "metadata": {},
   "source": [
    "# Read or Write to Disk:\n"
   ]
  },
  {
   "cell_type": "markdown",
   "id": "ed40f97f",
   "metadata": {},
   "source": [
    "# Binary Format:\n",
    "\n"
   ]
  },
  {
   "cell_type": "code",
   "execution_count": 82,
   "id": "7dab3f67",
   "metadata": {},
   "outputs": [],
   "source": [
    "x = np.array([ 23.23, 24.24] )\n"
   ]
  },
  {
   "cell_type": "code",
   "execution_count": 83,
   "id": "a2feebbf",
   "metadata": {},
   "outputs": [],
   "source": [
    "np.save('an_array', x)\n"
   ]
  },
  {
   "cell_type": "code",
   "execution_count": 84,
   "id": "bd49534d",
   "metadata": {},
   "outputs": [
    {
     "data": {
      "text/plain": [
       "array([23.23, 24.24])"
      ]
     },
     "execution_count": 84,
     "metadata": {},
     "output_type": "execute_result"
    }
   ],
   "source": [
    "np.load('an_array.npy')\n"
   ]
  },
  {
   "cell_type": "markdown",
   "id": "76f105a0",
   "metadata": {},
   "source": [
    "# Text Format:\n",
    "\n"
   ]
  },
  {
   "cell_type": "code",
   "execution_count": 85,
   "id": "65a89d3a",
   "metadata": {},
   "outputs": [],
   "source": [
    "np.savetxt('array.txt', X=x, delimiter=',')\n"
   ]
  },
  {
   "cell_type": "code",
   "execution_count": 86,
   "id": "dac82adf",
   "metadata": {},
   "outputs": [
    {
     "name": "stderr",
     "output_type": "stream",
     "text": [
      "'cat' is not recognized as an internal or external command,\n",
      "operable program or batch file.\n"
     ]
    }
   ],
   "source": [
    "!cat array.txt\n"
   ]
  },
  {
   "cell_type": "code",
   "execution_count": 87,
   "id": "7af64aff",
   "metadata": {},
   "outputs": [
    {
     "data": {
      "text/plain": [
       "array([23.23, 24.24])"
      ]
     },
     "execution_count": 87,
     "metadata": {},
     "output_type": "execute_result"
    }
   ],
   "source": [
    "np.loadtxt('array.txt', delimiter=',')\n"
   ]
  },
  {
   "cell_type": "markdown",
   "id": "8c949a34",
   "metadata": {},
   "source": [
    "# Additional Common ndarray Operations\n"
   ]
  },
  {
   "cell_type": "markdown",
   "id": "5739ad1f",
   "metadata": {},
   "source": [
    "# Dot Product on Matrices and Inner Product on Vectors:\n",
    "\n"
   ]
  },
  {
   "cell_type": "code",
   "execution_count": 88,
   "id": "29fe5ac0",
   "metadata": {},
   "outputs": [
    {
     "name": "stdout",
     "output_type": "stream",
     "text": [
      "[[4 4]\n",
      " [4 4]]\n",
      "\n",
      "[[4 4]\n",
      " [4 4]]\n"
     ]
    }
   ],
   "source": [
    "x2d = np.array([[1,1],[1,1]])\n",
    "y2d = np.array([[2,2],[2,2]])\n",
    "\n",
    "print(x2d.dot(y2d))\n",
    "print()\n",
    "print(np.dot(x2d, y2d))\n"
   ]
  },
  {
   "cell_type": "code",
   "execution_count": 89,
   "id": "61020a33",
   "metadata": {},
   "outputs": [
    {
     "name": "stdout",
     "output_type": "stream",
     "text": [
      "180\n",
      "\n",
      "180\n"
     ]
    }
   ],
   "source": [
    "a1d = np.array([9 , 9 ])\n",
    "b1d = np.array([10, 10])\n",
    "\n",
    "print(a1d.dot(b1d))\n",
    "print()\n",
    "print(np.dot(a1d, b1d))\n"
   ]
  },
  {
   "cell_type": "code",
   "execution_count": 90,
   "id": "0c023581",
   "metadata": {},
   "outputs": [
    {
     "name": "stdout",
     "output_type": "stream",
     "text": [
      "[18 18]\n",
      "\n",
      "[18 18]\n"
     ]
    }
   ],
   "source": [
    "print(x2d.dot(a1d))\n",
    "print()\n",
    "print(np.dot(x2d, a1d))\n"
   ]
  },
  {
   "cell_type": "markdown",
   "id": "4090a90b",
   "metadata": {},
   "source": [
    "# Sum:\n",
    "\n"
   ]
  },
  {
   "cell_type": "code",
   "execution_count": 91,
   "id": "1d5aa5ba",
   "metadata": {},
   "outputs": [
    {
     "name": "stdout",
     "output_type": "stream",
     "text": [
      "66\n"
     ]
    }
   ],
   "source": [
    "ex1 = np.array([[11,12],[21,22]])\n",
    "\n",
    "print(np.sum(ex1))"
   ]
  },
  {
   "cell_type": "code",
   "execution_count": 92,
   "id": "9b1c13bb",
   "metadata": {},
   "outputs": [
    {
     "name": "stdout",
     "output_type": "stream",
     "text": [
      "[32 34]\n"
     ]
    }
   ],
   "source": [
    "print(np.sum(ex1, axis=0))"
   ]
  },
  {
   "cell_type": "code",
   "execution_count": 93,
   "id": "e224e4e8",
   "metadata": {},
   "outputs": [
    {
     "name": "stdout",
     "output_type": "stream",
     "text": [
      "[23 43]\n"
     ]
    }
   ],
   "source": [
    "print(np.sum(ex1, axis=1))"
   ]
  },
  {
   "cell_type": "markdown",
   "id": "82ae7f70",
   "metadata": {},
   "source": [
    "# Element-wise Functions:\n",
    "\n"
   ]
  },
  {
   "cell_type": "markdown",
   "id": "03f87bf0",
   "metadata": {},
   "source": [
    "# For example, let's compare two arrays values to get the maximum of each.\n",
    "\n"
   ]
  },
  {
   "cell_type": "code",
   "execution_count": 94,
   "id": "2dce3c78",
   "metadata": {},
   "outputs": [
    {
     "data": {
      "text/plain": [
       "array([ 0.50135657, -0.93986389,  0.68886879, -1.37519556, -0.11193103,\n",
       "       -0.07547783,  0.0143515 ,  0.0558782 ])"
      ]
     },
     "execution_count": 94,
     "metadata": {},
     "output_type": "execute_result"
    }
   ],
   "source": [
    "x = np.random.randn(8)\n",
    "x\n"
   ]
  },
  {
   "cell_type": "code",
   "execution_count": 95,
   "id": "abcebca8",
   "metadata": {},
   "outputs": [
    {
     "data": {
      "text/plain": [
       "array([ 1.09673244, -0.26806262, -1.35857397, -0.24565666, -0.76445371,\n",
       "        0.22270934, -0.86070164, -1.53828741])"
      ]
     },
     "execution_count": 95,
     "metadata": {},
     "output_type": "execute_result"
    }
   ],
   "source": [
    "y = np.random.randn(8)\n",
    "y\n"
   ]
  },
  {
   "cell_type": "code",
   "execution_count": 117,
   "id": "b1059abc",
   "metadata": {},
   "outputs": [
    {
     "name": "stdout",
     "output_type": "stream",
     "text": [
      "[-1.12717702  1.23138571  0.60859138  0.01130323 -0.74679532 -1.00573546\n",
      " -0.39838565 -0.11741297]\n",
      "[-0.09751792  0.06463082 -1.03078305 -0.29207519 -0.17649605 -0.4818114\n",
      "  0.3395349   0.53663713]\n"
     ]
    },
    {
     "data": {
      "text/plain": [
       "array([-0.09751792,  1.23138571,  0.60859138,  0.01130323, -0.17649605,\n",
       "       -0.4818114 ,  0.3395349 ,  0.53663713])"
      ]
     },
     "execution_count": 117,
     "metadata": {},
     "output_type": "execute_result"
    }
   ],
   "source": [
    "import numpy as np\n",
    "x = np.random.randn(8)\n",
    "y = np.random.randn(8)\n",
    "print (x)\n",
    "print(y)\n",
    "\n",
    "np.maximum(x, y)\n"
   ]
  },
  {
   "cell_type": "markdown",
   "id": "08b4038f",
   "metadata": {},
   "source": [
    "# Reshaping array:\n",
    "\n"
   ]
  },
  {
   "cell_type": "code",
   "execution_count": 97,
   "id": "a3a24982",
   "metadata": {},
   "outputs": [
    {
     "name": "stdout",
     "output_type": "stream",
     "text": [
      "[ 0  1  2  3  4  5  6  7  8  9 10 11 12 13 14 15 16 17 18 19]\n"
     ]
    }
   ],
   "source": [
    "arr = np.arange(20)\n",
    "print(arr)\n"
   ]
  },
  {
   "cell_type": "code",
   "execution_count": 98,
   "id": "c60a0282",
   "metadata": {},
   "outputs": [
    {
     "data": {
      "text/plain": [
       "array([[ 0,  1,  2,  3,  4],\n",
       "       [ 5,  6,  7,  8,  9],\n",
       "       [10, 11, 12, 13, 14],\n",
       "       [15, 16, 17, 18, 19]])"
      ]
     },
     "execution_count": 98,
     "metadata": {},
     "output_type": "execute_result"
    }
   ],
   "source": [
    "arr.reshape(4,5)\n"
   ]
  },
  {
   "cell_type": "code",
   "execution_count": 119,
   "id": "fd5d969b",
   "metadata": {},
   "outputs": [
    {
     "name": "stdout",
     "output_type": "stream",
     "text": [
      "[0 1 2 3 4 5 6 7 8 9]\n"
     ]
    }
   ],
   "source": [
    "new=np.arange(10)\n",
    "print(new)"
   ]
  },
  {
   "cell_type": "code",
   "execution_count": 121,
   "id": "bfbdd004",
   "metadata": {},
   "outputs": [
    {
     "data": {
      "text/plain": [
       "array([[0, 1, 2, 3, 4],\n",
       "       [5, 6, 7, 8, 9]])"
      ]
     },
     "execution_count": 121,
     "metadata": {},
     "output_type": "execute_result"
    }
   ],
   "source": [
    "new.reshape(2,5)"
   ]
  },
  {
   "cell_type": "markdown",
   "id": "07c996ea",
   "metadata": {},
   "source": [
    "# Transpose:\n",
    "\n"
   ]
  },
  {
   "cell_type": "code",
   "execution_count": 122,
   "id": "f2e888d8",
   "metadata": {},
   "outputs": [
    {
     "data": {
      "text/plain": [
       "array([[11, 21],\n",
       "       [12, 22],\n",
       "       [13, 23]])"
      ]
     },
     "execution_count": 122,
     "metadata": {},
     "output_type": "execute_result"
    }
   ],
   "source": [
    "ex1 = np.array([[11,12,13],[21,22,23]])\n",
    "\n",
    "ex1.T\n"
   ]
  },
  {
   "cell_type": "markdown",
   "id": "63098ac4",
   "metadata": {},
   "source": [
    "# Indexing using where():\n",
    "\n"
   ]
  },
  {
   "cell_type": "code",
   "execution_count": 126,
   "id": "f5e6906c",
   "metadata": {},
   "outputs": [],
   "source": [
    "x_1 = np.array([1,2,3,4,5])\n",
    "\n",
    "y_1 = np.array([11,22,33,44,55])\n",
    "\n",
    "filter = np.array([True, True, True, False, True])\n"
   ]
  },
  {
   "cell_type": "code",
   "execution_count": 127,
   "id": "9b1762e6",
   "metadata": {},
   "outputs": [
    {
     "name": "stdout",
     "output_type": "stream",
     "text": [
      "[ 1  2  3 44  5]\n"
     ]
    }
   ],
   "source": [
    "out = np.where(filter, x_1, y_1)\n",
    "print(out)\n"
   ]
  },
  {
   "cell_type": "code",
   "execution_count": 102,
   "id": "949a57b6",
   "metadata": {},
   "outputs": [
    {
     "data": {
      "text/plain": [
       "array([[0.62586573, 0.67020183, 0.77504922, 0.46260798, 0.21772608],\n",
       "       [0.73129787, 0.79568653, 0.53294447, 0.84435866, 0.99201084],\n",
       "       [0.54262417, 0.28950716, 0.47386395, 0.2989378 , 0.91909769],\n",
       "       [0.94009301, 0.80429038, 0.89080648, 0.02495783, 0.90554132],\n",
       "       [0.55487206, 0.82444531, 0.1311086 , 0.62111893, 0.55684616]])"
      ]
     },
     "execution_count": 102,
     "metadata": {},
     "output_type": "execute_result"
    }
   ],
   "source": [
    "mat = np.random.rand(5,5)\n",
    "mat\n"
   ]
  },
  {
   "cell_type": "code",
   "execution_count": 103,
   "id": "1c9e8d10",
   "metadata": {},
   "outputs": [
    {
     "data": {
      "text/plain": [
       "array([[1000, 1000, 1000,   -1,   -1],\n",
       "       [1000, 1000, 1000, 1000, 1000],\n",
       "       [1000,   -1,   -1,   -1, 1000],\n",
       "       [1000, 1000, 1000,   -1, 1000],\n",
       "       [1000, 1000,   -1, 1000, 1000]])"
      ]
     },
     "execution_count": 103,
     "metadata": {},
     "output_type": "execute_result"
    }
   ],
   "source": [
    "np.where( mat > 0.5, 1000, -1)\n"
   ]
  },
  {
   "cell_type": "markdown",
   "id": "9b83e43d",
   "metadata": {},
   "source": [
    "# \"any\" or \"all\" conditionals:\n",
    "\n"
   ]
  },
  {
   "cell_type": "code",
   "execution_count": 104,
   "id": "e39eaacf",
   "metadata": {},
   "outputs": [],
   "source": [
    "arr_bools = np.array([ True, False, True, True, False ])\n"
   ]
  },
  {
   "cell_type": "code",
   "execution_count": 105,
   "id": "3d9298cf",
   "metadata": {},
   "outputs": [
    {
     "data": {
      "text/plain": [
       "True"
      ]
     },
     "execution_count": 105,
     "metadata": {},
     "output_type": "execute_result"
    }
   ],
   "source": [
    "arr_bools.any()\n"
   ]
  },
  {
   "cell_type": "code",
   "execution_count": 106,
   "id": "be7b733c",
   "metadata": {},
   "outputs": [
    {
     "data": {
      "text/plain": [
       "False"
      ]
     },
     "execution_count": 106,
     "metadata": {},
     "output_type": "execute_result"
    }
   ],
   "source": [
    "arr_bools.all()\n"
   ]
  },
  {
   "cell_type": "markdown",
   "id": "5deb7d3b",
   "metadata": {},
   "source": [
    "# Random Number Generation:\n",
    "\n"
   ]
  },
  {
   "cell_type": "code",
   "execution_count": 107,
   "id": "d37e3ece",
   "metadata": {},
   "outputs": [
    {
     "name": "stdout",
     "output_type": "stream",
     "text": [
      "[ 0.27853661 -0.68090794  0.78215009 -0.98973599  0.21554211]\n"
     ]
    }
   ],
   "source": [
    "import numpy as np\n",
    "Y = np.random.normal(size = (1,5))[0]\n",
    "print(Y)\n"
   ]
  },
  {
   "cell_type": "code",
   "execution_count": 128,
   "id": "46d5b945",
   "metadata": {},
   "outputs": [
    {
     "name": "stdout",
     "output_type": "stream",
     "text": [
      "[ 5 21 48 11]\n"
     ]
    }
   ],
   "source": [
    "Z = np.random.randint(low=2,high=50,size=4)\n",
    "print(Z)\n"
   ]
  },
  {
   "cell_type": "code",
   "execution_count": 131,
   "id": "c1d6621c",
   "metadata": {},
   "outputs": [
    {
     "data": {
      "text/plain": [
       "array([ 5, 11, 48, 21])"
      ]
     },
     "execution_count": 131,
     "metadata": {},
     "output_type": "execute_result"
    }
   ],
   "source": [
    "np.random.permutation(Z)"
   ]
  },
  {
   "cell_type": "code",
   "execution_count": 110,
   "id": "2334800c",
   "metadata": {},
   "outputs": [
    {
     "data": {
      "text/plain": [
       "array([0.9853899 , 0.76030864, 0.07553579, 0.72339159])"
      ]
     },
     "execution_count": 110,
     "metadata": {},
     "output_type": "execute_result"
    }
   ],
   "source": [
    "np.random.uniform(size=4)"
   ]
  },
  {
   "cell_type": "code",
   "execution_count": 111,
   "id": "c84e0744",
   "metadata": {},
   "outputs": [
    {
     "data": {
      "text/plain": [
       "array([-0.0994573 ,  0.91167116, -0.0478158 ,  0.82517798])"
      ]
     },
     "execution_count": 111,
     "metadata": {},
     "output_type": "execute_result"
    }
   ],
   "source": [
    "np.random.normal(size=4)"
   ]
  },
  {
   "cell_type": "markdown",
   "id": "8fd1ef62",
   "metadata": {},
   "source": [
    "# Merging data sets:\n",
    "\n"
   ]
  },
  {
   "cell_type": "code",
   "execution_count": 112,
   "id": "48bfa7ff",
   "metadata": {},
   "outputs": [
    {
     "name": "stdout",
     "output_type": "stream",
     "text": [
      "[[40 35]\n",
      " [49 17]]\n",
      "\n",
      "[[14 14]\n",
      " [45  3]]\n"
     ]
    }
   ],
   "source": [
    "K = np.random.randint(low=2,high=50,size=(2,2))\n",
    "print(K)\n",
    "\n",
    "print()\n",
    "M = np.random.randint(low=2,high=50,size=(2,2))\n",
    "print(M)\n"
   ]
  },
  {
   "cell_type": "code",
   "execution_count": 113,
   "id": "0a011fb1",
   "metadata": {},
   "outputs": [
    {
     "data": {
      "text/plain": [
       "array([[40, 35],\n",
       "       [49, 17],\n",
       "       [14, 14],\n",
       "       [45,  3]])"
      ]
     },
     "execution_count": 113,
     "metadata": {},
     "output_type": "execute_result"
    }
   ],
   "source": [
    "np.vstack((K,M))\n"
   ]
  },
  {
   "cell_type": "code",
   "execution_count": 114,
   "id": "b4511b6c",
   "metadata": {},
   "outputs": [
    {
     "data": {
      "text/plain": [
       "array([[40, 35, 14, 14],\n",
       "       [49, 17, 45,  3]])"
      ]
     },
     "execution_count": 114,
     "metadata": {},
     "output_type": "execute_result"
    }
   ],
   "source": [
    "np.hstack((K,M))\n"
   ]
  },
  {
   "cell_type": "code",
   "execution_count": 115,
   "id": "891ad4c3",
   "metadata": {},
   "outputs": [
    {
     "data": {
      "text/plain": [
       "array([[40, 35],\n",
       "       [49, 17],\n",
       "       [14, 14],\n",
       "       [45,  3]])"
      ]
     },
     "execution_count": 115,
     "metadata": {},
     "output_type": "execute_result"
    }
   ],
   "source": [
    "np.concatenate([K, M], axis = 0)\n"
   ]
  },
  {
   "cell_type": "code",
   "execution_count": 116,
   "id": "26f702aa",
   "metadata": {},
   "outputs": [
    {
     "data": {
      "text/plain": [
       "array([[40, 35, 14, 45],\n",
       "       [49, 17, 14,  3]])"
      ]
     },
     "execution_count": 116,
     "metadata": {},
     "output_type": "execute_result"
    }
   ],
   "source": [
    "np.concatenate([K, M.T], axis = 1)\n"
   ]
  },
  {
   "cell_type": "code",
   "execution_count": null,
   "id": "ea16af0e",
   "metadata": {},
   "outputs": [],
   "source": []
  }
 ],
 "metadata": {
  "kernelspec": {
   "display_name": "Python 3",
   "language": "python",
   "name": "python3"
  },
  "language_info": {
   "codemirror_mode": {
    "name": "ipython",
    "version": 3
   },
   "file_extension": ".py",
   "mimetype": "text/x-python",
   "name": "python",
   "nbconvert_exporter": "python",
   "pygments_lexer": "ipython3",
   "version": "3.8.8"
  }
 },
 "nbformat": 4,
 "nbformat_minor": 5
}
